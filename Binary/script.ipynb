{
 "cells": [
  {
   "cell_type": "code",
   "execution_count": 290,
   "metadata": {},
   "outputs": [],
   "source": [
    "import os\n",
    "os.environ[\"CUDA_VISIBLE_DEVICES\"] = \"-1\"\n"
   ]
  },
  {
   "cell_type": "code",
   "execution_count": 291,
   "metadata": {},
   "outputs": [],
   "source": [
    "import numpy as np\n",
    "import pandas as pd\n",
    "import matplotlib.pyplot as plt\n"
   ]
  },
  {
   "cell_type": "code",
   "execution_count": 292,
   "metadata": {},
   "outputs": [
    {
     "data": {
      "text/html": [
       "<div>\n",
       "<style scoped>\n",
       "    .dataframe tbody tr th:only-of-type {\n",
       "        vertical-align: middle;\n",
       "    }\n",
       "\n",
       "    .dataframe tbody tr th {\n",
       "        vertical-align: top;\n",
       "    }\n",
       "\n",
       "    .dataframe thead th {\n",
       "        text-align: right;\n",
       "    }\n",
       "</style>\n",
       "<table border=\"1\" class=\"dataframe\">\n",
       "  <thead>\n",
       "    <tr style=\"text-align: right;\">\n",
       "      <th></th>\n",
       "      <th>age</th>\n",
       "      <th>sex</th>\n",
       "      <th>cp</th>\n",
       "      <th>trestbps</th>\n",
       "      <th>chol</th>\n",
       "      <th>fbs</th>\n",
       "      <th>restecg</th>\n",
       "      <th>thalach</th>\n",
       "      <th>exang</th>\n",
       "      <th>oldpeak</th>\n",
       "      <th>slope</th>\n",
       "      <th>ca</th>\n",
       "      <th>thal</th>\n",
       "      <th>target</th>\n",
       "    </tr>\n",
       "  </thead>\n",
       "  <tbody>\n",
       "    <tr>\n",
       "      <th>0</th>\n",
       "      <td>63</td>\n",
       "      <td>1</td>\n",
       "      <td>3</td>\n",
       "      <td>145</td>\n",
       "      <td>233</td>\n",
       "      <td>1</td>\n",
       "      <td>0</td>\n",
       "      <td>150</td>\n",
       "      <td>0</td>\n",
       "      <td>2.3</td>\n",
       "      <td>0</td>\n",
       "      <td>0</td>\n",
       "      <td>1</td>\n",
       "      <td>1</td>\n",
       "    </tr>\n",
       "    <tr>\n",
       "      <th>1</th>\n",
       "      <td>37</td>\n",
       "      <td>1</td>\n",
       "      <td>2</td>\n",
       "      <td>130</td>\n",
       "      <td>250</td>\n",
       "      <td>0</td>\n",
       "      <td>1</td>\n",
       "      <td>187</td>\n",
       "      <td>0</td>\n",
       "      <td>3.5</td>\n",
       "      <td>0</td>\n",
       "      <td>0</td>\n",
       "      <td>2</td>\n",
       "      <td>1</td>\n",
       "    </tr>\n",
       "    <tr>\n",
       "      <th>2</th>\n",
       "      <td>41</td>\n",
       "      <td>0</td>\n",
       "      <td>1</td>\n",
       "      <td>130</td>\n",
       "      <td>204</td>\n",
       "      <td>0</td>\n",
       "      <td>0</td>\n",
       "      <td>172</td>\n",
       "      <td>0</td>\n",
       "      <td>1.4</td>\n",
       "      <td>2</td>\n",
       "      <td>0</td>\n",
       "      <td>2</td>\n",
       "      <td>1</td>\n",
       "    </tr>\n",
       "    <tr>\n",
       "      <th>3</th>\n",
       "      <td>56</td>\n",
       "      <td>1</td>\n",
       "      <td>1</td>\n",
       "      <td>120</td>\n",
       "      <td>236</td>\n",
       "      <td>0</td>\n",
       "      <td>1</td>\n",
       "      <td>178</td>\n",
       "      <td>0</td>\n",
       "      <td>0.8</td>\n",
       "      <td>2</td>\n",
       "      <td>0</td>\n",
       "      <td>2</td>\n",
       "      <td>1</td>\n",
       "    </tr>\n",
       "    <tr>\n",
       "      <th>4</th>\n",
       "      <td>57</td>\n",
       "      <td>0</td>\n",
       "      <td>0</td>\n",
       "      <td>120</td>\n",
       "      <td>354</td>\n",
       "      <td>0</td>\n",
       "      <td>1</td>\n",
       "      <td>163</td>\n",
       "      <td>1</td>\n",
       "      <td>0.6</td>\n",
       "      <td>2</td>\n",
       "      <td>0</td>\n",
       "      <td>2</td>\n",
       "      <td>1</td>\n",
       "    </tr>\n",
       "  </tbody>\n",
       "</table>\n",
       "</div>"
      ],
      "text/plain": [
       "   age  sex  cp  trestbps  chol  fbs  restecg  thalach  exang  oldpeak  slope  \\\n",
       "0   63    1   3       145   233    1        0      150      0      2.3      0   \n",
       "1   37    1   2       130   250    0        1      187      0      3.5      0   \n",
       "2   41    0   1       130   204    0        0      172      0      1.4      2   \n",
       "3   56    1   1       120   236    0        1      178      0      0.8      2   \n",
       "4   57    0   0       120   354    0        1      163      1      0.6      2   \n",
       "\n",
       "   ca  thal  target  \n",
       "0   0     1       1  \n",
       "1   0     2       1  \n",
       "2   0     2       1  \n",
       "3   0     2       1  \n",
       "4   0     2       1  "
      ]
     },
     "execution_count": 292,
     "metadata": {},
     "output_type": "execute_result"
    }
   ],
   "source": [
    "dataset = pd.read_csv(\"heart.csv\")\n",
    "dataset.head()\n"
   ]
  },
  {
   "cell_type": "code",
   "execution_count": 293,
   "metadata": {},
   "outputs": [
    {
     "data": {
      "text/plain": [
       "age           int64\n",
       "sex           int64\n",
       "cp            int64\n",
       "trestbps      int64\n",
       "chol          int64\n",
       "fbs           int64\n",
       "restecg       int64\n",
       "thalach       int64\n",
       "exang         int64\n",
       "oldpeak     float64\n",
       "slope         int64\n",
       "ca            int64\n",
       "thal          int64\n",
       "target        int64\n",
       "dtype: object"
      ]
     },
     "execution_count": 293,
     "metadata": {},
     "output_type": "execute_result"
    }
   ],
   "source": [
    "dataset.dtypes\n"
   ]
  },
  {
   "cell_type": "code",
   "execution_count": 294,
   "metadata": {},
   "outputs": [
    {
     "data": {
      "text/html": [
       "<div>\n",
       "<style scoped>\n",
       "    .dataframe tbody tr th:only-of-type {\n",
       "        vertical-align: middle;\n",
       "    }\n",
       "\n",
       "    .dataframe tbody tr th {\n",
       "        vertical-align: top;\n",
       "    }\n",
       "\n",
       "    .dataframe thead th {\n",
       "        text-align: right;\n",
       "    }\n",
       "</style>\n",
       "<table border=\"1\" class=\"dataframe\">\n",
       "  <thead>\n",
       "    <tr style=\"text-align: right;\">\n",
       "      <th></th>\n",
       "      <th>age</th>\n",
       "      <th>sex</th>\n",
       "      <th>cp</th>\n",
       "      <th>trestbps</th>\n",
       "      <th>chol</th>\n",
       "      <th>fbs</th>\n",
       "      <th>restecg</th>\n",
       "      <th>thalach</th>\n",
       "      <th>exang</th>\n",
       "      <th>oldpeak</th>\n",
       "      <th>slope</th>\n",
       "      <th>ca</th>\n",
       "      <th>thal</th>\n",
       "    </tr>\n",
       "  </thead>\n",
       "  <tbody>\n",
       "    <tr>\n",
       "      <th>0</th>\n",
       "      <td>63</td>\n",
       "      <td>1</td>\n",
       "      <td>3</td>\n",
       "      <td>145</td>\n",
       "      <td>233</td>\n",
       "      <td>1</td>\n",
       "      <td>0</td>\n",
       "      <td>150</td>\n",
       "      <td>0</td>\n",
       "      <td>2.3</td>\n",
       "      <td>0</td>\n",
       "      <td>0</td>\n",
       "      <td>1</td>\n",
       "    </tr>\n",
       "    <tr>\n",
       "      <th>1</th>\n",
       "      <td>37</td>\n",
       "      <td>1</td>\n",
       "      <td>2</td>\n",
       "      <td>130</td>\n",
       "      <td>250</td>\n",
       "      <td>0</td>\n",
       "      <td>1</td>\n",
       "      <td>187</td>\n",
       "      <td>0</td>\n",
       "      <td>3.5</td>\n",
       "      <td>0</td>\n",
       "      <td>0</td>\n",
       "      <td>2</td>\n",
       "    </tr>\n",
       "    <tr>\n",
       "      <th>2</th>\n",
       "      <td>41</td>\n",
       "      <td>0</td>\n",
       "      <td>1</td>\n",
       "      <td>130</td>\n",
       "      <td>204</td>\n",
       "      <td>0</td>\n",
       "      <td>0</td>\n",
       "      <td>172</td>\n",
       "      <td>0</td>\n",
       "      <td>1.4</td>\n",
       "      <td>2</td>\n",
       "      <td>0</td>\n",
       "      <td>2</td>\n",
       "    </tr>\n",
       "    <tr>\n",
       "      <th>3</th>\n",
       "      <td>56</td>\n",
       "      <td>1</td>\n",
       "      <td>1</td>\n",
       "      <td>120</td>\n",
       "      <td>236</td>\n",
       "      <td>0</td>\n",
       "      <td>1</td>\n",
       "      <td>178</td>\n",
       "      <td>0</td>\n",
       "      <td>0.8</td>\n",
       "      <td>2</td>\n",
       "      <td>0</td>\n",
       "      <td>2</td>\n",
       "    </tr>\n",
       "    <tr>\n",
       "      <th>4</th>\n",
       "      <td>57</td>\n",
       "      <td>0</td>\n",
       "      <td>0</td>\n",
       "      <td>120</td>\n",
       "      <td>354</td>\n",
       "      <td>0</td>\n",
       "      <td>1</td>\n",
       "      <td>163</td>\n",
       "      <td>1</td>\n",
       "      <td>0.6</td>\n",
       "      <td>2</td>\n",
       "      <td>0</td>\n",
       "      <td>2</td>\n",
       "    </tr>\n",
       "  </tbody>\n",
       "</table>\n",
       "</div>"
      ],
      "text/plain": [
       "   age  sex  cp  trestbps  chol  fbs  restecg  thalach  exang  oldpeak  slope  \\\n",
       "0   63    1   3       145   233    1        0      150      0      2.3      0   \n",
       "1   37    1   2       130   250    0        1      187      0      3.5      0   \n",
       "2   41    0   1       130   204    0        0      172      0      1.4      2   \n",
       "3   56    1   1       120   236    0        1      178      0      0.8      2   \n",
       "4   57    0   0       120   354    0        1      163      1      0.6      2   \n",
       "\n",
       "   ca  thal  \n",
       "0   0     1  \n",
       "1   0     2  \n",
       "2   0     2  \n",
       "3   0     2  \n",
       "4   0     2  "
      ]
     },
     "execution_count": 294,
     "metadata": {},
     "output_type": "execute_result"
    }
   ],
   "source": [
    "X = dataset.iloc[:, :-1]\n",
    "X.head()\n"
   ]
  },
  {
   "cell_type": "code",
   "execution_count": 295,
   "metadata": {},
   "outputs": [
    {
     "data": {
      "text/html": [
       "<div>\n",
       "<style scoped>\n",
       "    .dataframe tbody tr th:only-of-type {\n",
       "        vertical-align: middle;\n",
       "    }\n",
       "\n",
       "    .dataframe tbody tr th {\n",
       "        vertical-align: top;\n",
       "    }\n",
       "\n",
       "    .dataframe thead th {\n",
       "        text-align: right;\n",
       "    }\n",
       "</style>\n",
       "<table border=\"1\" class=\"dataframe\">\n",
       "  <thead>\n",
       "    <tr style=\"text-align: right;\">\n",
       "      <th></th>\n",
       "      <th>target</th>\n",
       "    </tr>\n",
       "  </thead>\n",
       "  <tbody>\n",
       "    <tr>\n",
       "      <th>0</th>\n",
       "      <td>1</td>\n",
       "    </tr>\n",
       "    <tr>\n",
       "      <th>1</th>\n",
       "      <td>1</td>\n",
       "    </tr>\n",
       "    <tr>\n",
       "      <th>2</th>\n",
       "      <td>1</td>\n",
       "    </tr>\n",
       "    <tr>\n",
       "      <th>3</th>\n",
       "      <td>1</td>\n",
       "    </tr>\n",
       "    <tr>\n",
       "      <th>4</th>\n",
       "      <td>1</td>\n",
       "    </tr>\n",
       "  </tbody>\n",
       "</table>\n",
       "</div>"
      ],
      "text/plain": [
       "   target\n",
       "0       1\n",
       "1       1\n",
       "2       1\n",
       "3       1\n",
       "4       1"
      ]
     },
     "execution_count": 295,
     "metadata": {},
     "output_type": "execute_result"
    }
   ],
   "source": [
    "y = dataset.iloc[:, [-1]]\n",
    "y.head()\n"
   ]
  },
  {
   "cell_type": "code",
   "execution_count": 296,
   "metadata": {},
   "outputs": [],
   "source": [
    "X_ohe = pd.get_dummies(X, columns=[\"cp\", \"restecg\", \"slope\", \"thal\"])\n"
   ]
  },
  {
   "cell_type": "code",
   "execution_count": 297,
   "metadata": {},
   "outputs": [
    {
     "data": {
      "text/plain": [
       "Index(['age', 'sex', 'trestbps', 'chol', 'fbs', 'thalach', 'exang', 'oldpeak',\n",
       "       'ca', 'cp_0', 'cp_1', 'cp_2', 'cp_3', 'restecg_0', 'restecg_1',\n",
       "       'restecg_2', 'slope_0', 'slope_1', 'slope_2', 'thal_0', 'thal_1',\n",
       "       'thal_2', 'thal_3'],\n",
       "      dtype='object')"
      ]
     },
     "execution_count": 297,
     "metadata": {},
     "output_type": "execute_result"
    }
   ],
   "source": [
    "X_ohe.columns\n"
   ]
  },
  {
   "cell_type": "code",
   "execution_count": 298,
   "metadata": {},
   "outputs": [],
   "source": [
    "from sklearn.model_selection import train_test_split\n",
    "\n",
    "X_train, X_test, y_train, y_test = train_test_split(\n",
    "    X_ohe, y, test_size=0.3, random_state=0\n",
    ")\n"
   ]
  },
  {
   "cell_type": "code",
   "execution_count": 299,
   "metadata": {},
   "outputs": [],
   "source": [
    "from sklearn.preprocessing import StandardScaler\n",
    "\n",
    "sc = StandardScaler()\n",
    "X_train = sc.fit_transform(X_train)\n",
    "X_test = sc.fit_transform(X_test)\n"
   ]
  },
  {
   "cell_type": "code",
   "execution_count": 300,
   "metadata": {},
   "outputs": [],
   "source": [
    "import keras\n",
    "from keras.models import Sequential\n",
    "from keras.layers import Dense, Dropout\n",
    "from scikeras.wrappers import KerasClassifier\n",
    "from sklearn.model_selection import cross_val_score\n"
   ]
  },
  {
   "cell_type": "code",
   "execution_count": 301,
   "metadata": {},
   "outputs": [],
   "source": [
    "def build_classifier():\n",
    "    classifier = Sequential()\n",
    "    classifier.add(keras.Input(shape=(23,)))\n",
    "    classifier.add(Dense(11, activation=\"relu\"))\n",
    "    classifier.add(Dropout(0.1))\n",
    "    classifier.add(Dense(11, activation=\"relu\"))\n",
    "    classifier.add(Dropout(0.1))\n",
    "    classifier.add(Dense(1, activation=\"sigmoid\"))\n",
    "    classifier.compile(\n",
    "        optimizer=\"adam\", loss=\"binary_crossentropy\", metrics=[\"accuracy\"]\n",
    "    )\n",
    "    return classifier\n"
   ]
  },
  {
   "cell_type": "code",
   "execution_count": 302,
   "metadata": {},
   "outputs": [
    {
     "name": "stdout",
     "output_type": "stream",
     "text": [
      "0.7924695459579181\n",
      "0.03737012390254065\n"
     ]
    }
   ],
   "source": [
    "classifier = KerasClassifier(build_fn=build_classifier, epochs=70, batch_size=10)\n",
    "accuracies = cross_val_score(\n",
    "    estimator=classifier, X=X_train, y=y_train, cv=5, n_jobs=-1\n",
    ")\n",
    "\n",
    "mean = accuracies.mean()\n",
    "variance = accuracies.std()\n",
    "print(mean)\n",
    "print(variance)\n"
   ]
  },
  {
   "cell_type": "code",
   "execution_count": 303,
   "metadata": {},
   "outputs": [
    {
     "name": "stdout",
     "output_type": "stream",
     "text": [
      "Epoch 1/70\n"
     ]
    },
    {
     "name": "stderr",
     "output_type": "stream",
     "text": [
      "C:\\Users\\ishaa\\AppData\\Local\\Programs\\Python\\Python39\\lib\\site-packages\\scikeras\\wrappers.py:289: UserWarning: ``build_fn`` will be renamed to ``model`` in a future release, at which point use of ``build_fn`` will raise an Error instead.\n",
      "  warnings.warn(\n"
     ]
    },
    {
     "name": "stdout",
     "output_type": "stream",
     "text": [
      "22/22 [==============================] - 0s 619us/step - loss: 0.8005 - accuracy: 0.5000\n",
      "Epoch 2/70\n",
      "22/22 [==============================] - 0s 572us/step - loss: 0.7191 - accuracy: 0.5330\n",
      "Epoch 3/70\n",
      "22/22 [==============================] - 0s 571us/step - loss: 0.6701 - accuracy: 0.6274\n",
      "Epoch 4/70\n",
      "22/22 [==============================] - 0s 619us/step - loss: 0.6078 - accuracy: 0.6792\n",
      "Epoch 5/70\n",
      "22/22 [==============================] - 0s 619us/step - loss: 0.5571 - accuracy: 0.7453\n",
      "Epoch 6/70\n",
      "22/22 [==============================] - 0s 619us/step - loss: 0.5255 - accuracy: 0.7642\n",
      "Epoch 7/70\n",
      "22/22 [==============================] - 0s 619us/step - loss: 0.5106 - accuracy: 0.7877\n",
      "Epoch 8/70\n",
      "22/22 [==============================] - 0s 619us/step - loss: 0.4703 - accuracy: 0.7877\n",
      "Epoch 9/70\n",
      "22/22 [==============================] - 0s 629us/step - loss: 0.4681 - accuracy: 0.7877\n",
      "Epoch 10/70\n",
      "22/22 [==============================] - 0s 572us/step - loss: 0.4671 - accuracy: 0.7689\n",
      "Epoch 11/70\n",
      "22/22 [==============================] - 0s 619us/step - loss: 0.4471 - accuracy: 0.8113\n",
      "Epoch 12/70\n",
      "22/22 [==============================] - 0s 619us/step - loss: 0.4313 - accuracy: 0.8255\n",
      "Epoch 13/70\n",
      "22/22 [==============================] - 0s 619us/step - loss: 0.4307 - accuracy: 0.8208\n",
      "Epoch 14/70\n",
      "22/22 [==============================] - 0s 714us/step - loss: 0.4178 - accuracy: 0.8255\n",
      "Epoch 15/70\n",
      "22/22 [==============================] - 0s 667us/step - loss: 0.4185 - accuracy: 0.8349\n",
      "Epoch 16/70\n",
      "22/22 [==============================] - 0s 667us/step - loss: 0.4213 - accuracy: 0.8208\n",
      "Epoch 17/70\n",
      "22/22 [==============================] - 0s 619us/step - loss: 0.3984 - accuracy: 0.8349\n",
      "Epoch 18/70\n",
      "22/22 [==============================] - 0s 667us/step - loss: 0.4205 - accuracy: 0.8160\n",
      "Epoch 19/70\n",
      "22/22 [==============================] - 0s 619us/step - loss: 0.3946 - accuracy: 0.8443\n",
      "Epoch 20/70\n",
      "22/22 [==============================] - 0s 667us/step - loss: 0.3880 - accuracy: 0.8208\n",
      "Epoch 21/70\n",
      "22/22 [==============================] - 0s 619us/step - loss: 0.3818 - accuracy: 0.8396\n",
      "Epoch 22/70\n",
      "22/22 [==============================] - 0s 619us/step - loss: 0.3526 - accuracy: 0.8491\n",
      "Epoch 23/70\n",
      "22/22 [==============================] - 0s 572us/step - loss: 0.3772 - accuracy: 0.8396\n",
      "Epoch 24/70\n",
      "22/22 [==============================] - 0s 667us/step - loss: 0.3609 - accuracy: 0.8538\n",
      "Epoch 25/70\n",
      "22/22 [==============================] - 0s 619us/step - loss: 0.3617 - accuracy: 0.8585\n",
      "Epoch 26/70\n",
      "22/22 [==============================] - 0s 667us/step - loss: 0.3881 - accuracy: 0.8208\n",
      "Epoch 27/70\n",
      "22/22 [==============================] - 0s 572us/step - loss: 0.3683 - accuracy: 0.8443\n",
      "Epoch 28/70\n",
      "22/22 [==============================] - 0s 762us/step - loss: 0.3624 - accuracy: 0.8585\n",
      "Epoch 29/70\n",
      "22/22 [==============================] - 0s 714us/step - loss: 0.3715 - accuracy: 0.8396\n",
      "Epoch 30/70\n",
      "22/22 [==============================] - 0s 667us/step - loss: 0.3326 - accuracy: 0.8443\n",
      "Epoch 31/70\n",
      "22/22 [==============================] - 0s 619us/step - loss: 0.3508 - accuracy: 0.8538\n",
      "Epoch 32/70\n",
      "22/22 [==============================] - 0s 619us/step - loss: 0.3348 - accuracy: 0.8585\n",
      "Epoch 33/70\n",
      "22/22 [==============================] - 0s 619us/step - loss: 0.3436 - accuracy: 0.8632\n",
      "Epoch 34/70\n",
      "22/22 [==============================] - 0s 619us/step - loss: 0.3371 - accuracy: 0.8538\n",
      "Epoch 35/70\n",
      "22/22 [==============================] - 0s 619us/step - loss: 0.3225 - accuracy: 0.8538\n",
      "Epoch 36/70\n",
      "22/22 [==============================] - 0s 619us/step - loss: 0.3273 - accuracy: 0.8679\n",
      "Epoch 37/70\n",
      "22/22 [==============================] - 0s 619us/step - loss: 0.3246 - accuracy: 0.8726\n",
      "Epoch 38/70\n",
      "22/22 [==============================] - 0s 667us/step - loss: 0.3140 - accuracy: 0.8774\n",
      "Epoch 39/70\n",
      "22/22 [==============================] - 0s 572us/step - loss: 0.2836 - accuracy: 0.8868\n",
      "Epoch 40/70\n",
      "22/22 [==============================] - 0s 619us/step - loss: 0.2841 - accuracy: 0.8868\n",
      "Epoch 41/70\n",
      "22/22 [==============================] - 0s 619us/step - loss: 0.2949 - accuracy: 0.8915\n",
      "Epoch 42/70\n",
      "22/22 [==============================] - 0s 572us/step - loss: 0.2796 - accuracy: 0.8774\n",
      "Epoch 43/70\n",
      "22/22 [==============================] - 0s 619us/step - loss: 0.2857 - accuracy: 0.8821\n",
      "Epoch 44/70\n",
      "22/22 [==============================] - 0s 619us/step - loss: 0.3173 - accuracy: 0.8632\n",
      "Epoch 45/70\n",
      "22/22 [==============================] - 0s 619us/step - loss: 0.2787 - accuracy: 0.8868\n",
      "Epoch 46/70\n",
      "22/22 [==============================] - 0s 619us/step - loss: 0.3113 - accuracy: 0.8915\n",
      "Epoch 47/70\n",
      "22/22 [==============================] - 0s 667us/step - loss: 0.2875 - accuracy: 0.8915\n",
      "Epoch 48/70\n",
      "22/22 [==============================] - 0s 572us/step - loss: 0.2638 - accuracy: 0.8915\n",
      "Epoch 49/70\n",
      "22/22 [==============================] - 0s 667us/step - loss: 0.2932 - accuracy: 0.8726\n",
      "Epoch 50/70\n",
      "22/22 [==============================] - 0s 619us/step - loss: 0.2783 - accuracy: 0.8915\n",
      "Epoch 51/70\n",
      "22/22 [==============================] - 0s 619us/step - loss: 0.2906 - accuracy: 0.8726\n",
      "Epoch 52/70\n",
      "22/22 [==============================] - 0s 619us/step - loss: 0.2669 - accuracy: 0.8868\n",
      "Epoch 53/70\n",
      "22/22 [==============================] - 0s 619us/step - loss: 0.2568 - accuracy: 0.8962\n",
      "Epoch 54/70\n",
      "22/22 [==============================] - 0s 619us/step - loss: 0.2509 - accuracy: 0.9057\n",
      "Epoch 55/70\n",
      "22/22 [==============================] - 0s 619us/step - loss: 0.2719 - accuracy: 0.8915\n",
      "Epoch 56/70\n",
      "22/22 [==============================] - 0s 678us/step - loss: 0.2578 - accuracy: 0.8915\n",
      "Epoch 57/70\n",
      "22/22 [==============================] - 0s 619us/step - loss: 0.2711 - accuracy: 0.8868\n",
      "Epoch 58/70\n",
      "22/22 [==============================] - 0s 648us/step - loss: 0.2711 - accuracy: 0.8868\n",
      "Epoch 59/70\n",
      "22/22 [==============================] - 0s 572us/step - loss: 0.2569 - accuracy: 0.8915\n",
      "Epoch 60/70\n",
      "22/22 [==============================] - 0s 667us/step - loss: 0.2449 - accuracy: 0.8962\n",
      "Epoch 61/70\n",
      "22/22 [==============================] - 0s 572us/step - loss: 0.2389 - accuracy: 0.9057\n",
      "Epoch 62/70\n",
      "22/22 [==============================] - 0s 667us/step - loss: 0.2371 - accuracy: 0.9009\n",
      "Epoch 63/70\n",
      "22/22 [==============================] - 0s 572us/step - loss: 0.2180 - accuracy: 0.9198\n",
      "Epoch 64/70\n",
      "22/22 [==============================] - 0s 619us/step - loss: 0.2389 - accuracy: 0.9009\n",
      "Epoch 65/70\n",
      "22/22 [==============================] - 0s 619us/step - loss: 0.2388 - accuracy: 0.9009\n",
      "Epoch 66/70\n",
      "22/22 [==============================] - 0s 619us/step - loss: 0.2532 - accuracy: 0.9104\n",
      "Epoch 67/70\n",
      "22/22 [==============================] - 0s 667us/step - loss: 0.2590 - accuracy: 0.8962\n",
      "Epoch 68/70\n",
      "22/22 [==============================] - 0s 572us/step - loss: 0.2336 - accuracy: 0.8962\n",
      "Epoch 69/70\n",
      "22/22 [==============================] - 0s 715us/step - loss: 0.2427 - accuracy: 0.9151\n",
      "Epoch 70/70\n",
      "22/22 [==============================] - 0s 619us/step - loss: 0.2277 - accuracy: 0.9057\n"
     ]
    },
    {
     "data": {
      "text/plain": [
       "KerasClassifier(\n",
       "\tmodel=None\n",
       "\tbuild_fn=<function build_classifier at 0x000001DC2640F4C0>\n",
       "\twarm_start=False\n",
       "\trandom_state=None\n",
       "\toptimizer=rmsprop\n",
       "\tloss=None\n",
       "\tmetrics=None\n",
       "\tbatch_size=10\n",
       "\tvalidation_batch_size=None\n",
       "\tverbose=1\n",
       "\tcallbacks=None\n",
       "\tvalidation_split=0.0\n",
       "\tshuffle=True\n",
       "\trun_eagerly=False\n",
       "\tepochs=70\n",
       "\tclass_weight=None\n",
       ")"
      ]
     },
     "execution_count": 303,
     "metadata": {},
     "output_type": "execute_result"
    }
   ],
   "source": [
    "classifier.fit(X_train, y_train)\n",
    "\n"
   ]
  },
  {
   "cell_type": "code",
   "execution_count": 304,
   "metadata": {},
   "outputs": [],
   "source": [
    "from sklearn.metrics import accuracy_score, f1_score, precision_score, recall_score, confusion_matrix\n"
   ]
  },
  {
   "cell_type": "code",
   "execution_count": 305,
   "metadata": {},
   "outputs": [],
   "source": [
    "def evaluate(y_test, y_pred):\n",
    "  cm = confusion_matrix(y_true=y_test, y_pred=y_pred)\n",
    "  acc = accuracy_score(y_true=y_test, y_pred=y_pred) * 100\n",
    "  fs = f1_score(y_true=y_test, y_pred=y_pred)\n",
    "  rs = recall_score(y_true=y_test, y_pred=y_pred)\n",
    "  ps = precision_score(y_true=y_test, y_pred=y_pred)\n",
    "\n",
    "  tn, fp, fn, tp = cm.ravel()\n",
    "\n",
    "  specificity = tn / (tn+fp)\n",
    "  sensitivity = tp / (tp + fn)\n",
    "\n",
    "  print('Accuracy score:', acc)\n",
    "  print('F1 score:', fs)\n",
    "  print('Recall score:', rs)\n",
    "  print('Precision score:', ps)\n",
    "  print('Sensitivity score:', sensitivity)\n",
    "  print('Specificity score:', specificity)\n"
   ]
  },
  {
   "cell_type": "code",
   "execution_count": 306,
   "metadata": {},
   "outputs": [
    {
     "name": "stdout",
     "output_type": "stream",
     "text": [
      "10/10 [==============================] - 0s 445us/step\n"
     ]
    }
   ],
   "source": [
    "y_pred = classifier.predict(X_test)\n",
    "y_pred = y_pred > 0.5\n"
   ]
  },
  {
   "cell_type": "code",
   "execution_count": 307,
   "metadata": {},
   "outputs": [
    {
     "name": "stdout",
     "output_type": "stream",
     "text": [
      "10/10 [==============================] - 0s 556us/step\n"
     ]
    },
    {
     "name": "stderr",
     "output_type": "stream",
     "text": [
      "C:\\Users\\ishaa\\AppData\\Local\\Programs\\Python\\Python39\\lib\\site-packages\\sklearn\\utils\\deprecation.py:87: FutureWarning: Function plot_confusion_matrix is deprecated; Function `plot_confusion_matrix` is deprecated in 1.0 and will be removed in 1.2. Use one of the class methods: ConfusionMatrixDisplay.from_predictions or ConfusionMatrixDisplay.from_estimator.\n",
      "  warnings.warn(msg, category=FutureWarning)\n"
     ]
    },
    {
     "data": {
      "image/png": "[encoded data removed]",
      "text/plain": [
       "<Figure size 432x288 with 2 Axes>"
      ]
     },
     "metadata": {
      "needs_background": "light"
     },
     "output_type": "display_data"
    }
   ],
   "source": [
    "from sklearn.metrics import plot_confusion_matrix\n",
    "\n",
    "plot_confusion_matrix(classifier, X_test, y_test)\n",
    "plt.show()\n"
   ]
  },
  {
   "cell_type": "code",
   "execution_count": 308,
   "metadata": {},
   "outputs": [
    {
     "name": "stdout",
     "output_type": "stream",
     "text": [
      "Accuracy score: 85.71428571428571\n",
      "F1 score: 0.8686868686868686\n",
      "Recall score: 0.9148936170212766\n",
      "Precision score: 0.8269230769230769\n",
      "Sensitivity score: 0.9148936170212766\n",
      "Specificity score: 0.7954545454545454\n"
     ]
    }
   ],
   "source": [
    "evaluate(y_test, y_pred)"
   ]
  }
 ],
 "metadata": {
  "interpreter": {
   "hash": "e7042ecf000a6d935555aff1ec8edc842ddfc5dc42659e2da16af7ade8e24a8a"
  },
  "kernelspec": {
   "display_name": "Python 3.9.10 64-bit",
   "language": "python",
   "name": "python3"
  },
  "language_info": {
   "codemirror_mode": {
    "name": "ipython",
    "version": 3
   },
   "file_extension": ".py",
   "mimetype": "text/x-python",
   "name": "python",
   "nbconvert_exporter": "python",
   "pygments_lexer": "ipython3",
   "version": "3.9.10"
  },
  "orig_nbformat": 4
 },
 "nbformat": 4,
 "nbformat_minor": 2
}
